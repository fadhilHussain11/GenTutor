{
 "cells": [
  {
   "cell_type": "code",
   "execution_count": 12,
   "id": "9642ecf5",
   "metadata": {},
   "outputs": [
    {
     "name": "stdout",
     "output_type": "stream",
     "text": [
      "d:\\GenTutor\n"
     ]
    }
   ],
   "source": [
    "import os,json,pytesseract\n",
    "from langchain.prompts import PromptTemplate\n",
    "from langchain.chains import LLMChain\n",
    "from PIL import Image\n",
    "from dotenv import load_dotenv\n",
    "load_dotenv()\n",
    "from langchain_groq import ChatGroq\n",
    "\n",
    "cwd = os.getcwd()\n",
    "root = os.path.dirname(cwd)\n",
    "print(root)\n",
    "syllabus_dir = os.path.join(root,'backend','syllabus')\n",
    "\n",
    "groq_api_key = os.getenv(\"GROQ_API_KEY\")\n",
    "llm = ChatGroq(model=\"gemma2-9b-it\",groq_api_key=groq_api_key)\n",
    "pytesseract.pytesseract.tesseract_cmd = r\"D:\\Tesseract-OCR\\tesseract.exe\""
   ]
  },
  {
   "cell_type": "code",
   "execution_count": null,
   "id": "c4aaa312",
   "metadata": {},
   "outputs": [
    {
     "name": "stdout",
     "output_type": "stream",
     "text": [
      "d:\\GenTutor\\backend\\syllabus\\dbms_sylabus.png\n",
      "content='{\\n  \"name\": \"Core Paper - III: Database Management Systems\",\\n  \"objective\": \"This course introduces the concepts of database systems design and to understand the context, phases and\\\\ntechniques for designing and building database information systems in business. To understand the components\\\\nof a computerized database information system.\",\\n  \"outcomes\": \"After successful completion of this course, the students should be able to Design a correct, new database\\\\ninformation system for a business functional area and implement the design in either SQL or NoSQL To\\\\nunderstand the concepts of open source databases.\",\\n  \"units\": [\\n    \"Unit-I: Introduction to Database Systems — Relational Model — Structure — Relational Algebra — Null\\\\nValues — SQL ~ Set Operation — Views — Advanced SQL — Embedded SQL — Recursive Queries — The Tuple\\\\nRelational Calculus — Domain Relational Calculus.\",\\n    \"Unit-I: E-R Model — Constraints — E-R- Diagrams Weak Entity Sets — Reduction to Relational Schemes\\\\n— Relational Database Design — Features of Relational Design — Automatic Domains and First Normal Form\\\\n— Decomposition using Functional Dependencies ~ Multivalued Dependencies — More Normal Forms — Web\\\\nInterface — Object — Based\\\\nDatabases ~ Structured Types and inheritance in SQL ~ Table inheritance — Persis\",\\n    \"Unit-III: Storage and File Structure — RAID — File Organisation — Indexing and Hashing ~ B Tree ~ B Tree Index\\\\nfiles - Static and Dynamic Hashing ~ Query Processing — Sorting & Join\\\\nOperators ~ Query Optimization — Choice of Evaluation Plans.\",\\n    \"Unit-IV: Transaction Management — Implementation of Atomicity and Durability —Serializability —\\\\nRecoverability — Concurrency Control — Dead Lock Handling — Recovery\\\\nSystem — Buffer Management.\",\\n    \"Unit-V: Database — System Architecture — Client Server — Architectures — Parallel System —Network Types —\\\\nDistributed Database — Homogeneous and Heterogeneous Database — Directory System — Case Study —\\\\nOracle ~ MSSQL Server.\"\\n  ]\\n} \\n\\n\\n' additional_kwargs={} response_metadata={'token_usage': {'completion_tokens': 419, 'prompt_tokens': 466, 'total_tokens': 885, 'completion_time': 0.761818182, 'prompt_time': 0.009326999, 'queue_time': 0.251264288, 'total_time': 0.771145181}, 'model_name': 'gemma2-9b-it', 'system_fingerprint': 'fp_10c08bf97d', 'service_tier': 'on_demand', 'finish_reason': 'stop', 'logprobs': None} id='run--f4004772-6eb4-443f-9824-9783569d681b-0' usage_metadata={'input_tokens': 466, 'output_tokens': 419, 'total_tokens': 885}\n"
     ]
    }
   ],
   "source": [
    "file_path = os.path.join(syllabus_dir,\"dbms_sylabus.png\")\n",
    "print(file_path)\n",
    "img = Image.open(file_path)\n",
    "Content_text = pytesseract.image_to_string(img)\n",
    "prompt = PromptTemplate(\n",
    "    input_variables=[\"content\"],\n",
    "    template=\"\"\"\n",
    "        You are assistant that extract syllabus details into JSON format.\n",
    "        Syllabus:\n",
    "        {content}\n",
    "\n",
    "        Return only valid JSON. Do not include ``` or any explanation:\n",
    "        {{\n",
    "            \"name\": \"..subject name...\",\n",
    "            \"unit..\": [.....,.....,....],\n",
    "            \"......\": [.....,.....,....]\n",
    "        }}\n",
    "        \"\"\"\n",
    "    )\n",
    "chain = prompt|llm\n",
    "text = chain.invoke({\"content\":Content_text})\n",
    "print(text)"
   ]
  },
  {
   "cell_type": "code",
   "execution_count": 47,
   "id": "a3223ade",
   "metadata": {},
   "outputs": [
    {
     "data": {
      "text/markdown": [
       "{\n",
       "  \"name\": \"Core Paper - III: Database Management Systems\",\n",
       "  \"objective\": \"This course introduces the concepts of database systems design and to understand the context, phases and\\ntechniques for designing and building database information systems in business. To understand the components\\nof a computerized database information system.\",\n",
       "  \"outcomes\": \"After successful completion of this course, the students should be able to Design a correct, new database\\ninformation system for a business functional area and implement the design in either SQL or NoSQL To\\nunderstand the concepts of open source databases.\",\n",
       "  \"units\": [\n",
       "    \"Unit-I: Introduction to Database Systems — Relational Model — Structure — Relational Algebra — Null\\nValues — SQL ~ Set Operation — Views — Advanced SQL — Embedded SQL — Recursive Queries — The Tuple\\nRelational Calculus — Domain Relational Calculus.\",\n",
       "    \"Unit-I: E-R Model — Constraints — E-R- Diagrams Weak Entity Sets — Reduction to Relational Schemes\\n— Relational Database Design — Features of Relational Design — Automatic Domains and First Normal Form\\n— Decomposition using Functional Dependencies ~ Multivalued Dependencies — More Normal Forms — Web\\nInterface — Object — Based\\nDatabases ~ Structured Types and inheritance in SQL ~ Table inheritance — Persis\",\n",
       "    \"Unit-III: Storage and File Structure — RAID — File Organisation — Indexing and Hashing ~ B Tree ~ B Tree Index\\nfiles - Static and Dynamic Hashing ~ Query Processing — Sorting & Join\\nOperators ~ Query Optimization — Choice of Evaluation Plans.\",\n",
       "    \"Unit-IV: Transaction Management — Implementation of Atomicity and Durability —Serializability —\\nRecoverability — Concurrency Control — Dead Lock Handling — Recovery\\nSystem — Buffer Management.\",\n",
       "    \"Unit-V: Database — System Architecture — Client Server — Architectures — Parallel System —Network Types —\\nDistributed Database — Homogeneous and Heterogeneous Database — Directory System — Case Study —\\nOracle ~ MSSQL Server.\"\n",
       "  ]\n",
       "} \n",
       "\n",
       "\n"
      ],
      "text/plain": [
       "<IPython.core.display.Markdown object>"
      ]
     },
     "metadata": {},
     "output_type": "display_data"
    }
   ],
   "source": [
    "from IPython.display import Markdown,display\n",
    "display(Markdown(text.content))"
   ]
  },
  {
   "cell_type": "code",
   "execution_count": 48,
   "id": "3bc281e6",
   "metadata": {},
   "outputs": [],
   "source": [
    "import json\n",
    "data = json.loads(clean_json_str)\n"
   ]
  },
  {
   "cell_type": "code",
   "execution_count": 50,
   "id": "bb98ed9f",
   "metadata": {},
   "outputs": [
    {
     "data": {
      "text/plain": [
       "[{'title': 'Unit-I',\n",
       "  'topics': ['Introduction to Database Systems',\n",
       "   'Relational Model',\n",
       "   'Structure',\n",
       "   'Relational Algebra',\n",
       "   'Null Values',\n",
       "   'SQL ~ Set Operation',\n",
       "   'Views',\n",
       "   'Advanced SQL',\n",
       "   'Embedded SQL',\n",
       "   'Recursive Queries',\n",
       "   'The Tuple Relational Calculus',\n",
       "   'Domain Relational Calculus']},\n",
       " {'title': 'Unit-II',\n",
       "  'topics': ['E-R Model',\n",
       "   'Constraints',\n",
       "   'E-R- Diagrams',\n",
       "   'Weak Entity Sets',\n",
       "   'Reduction to Relational Schemes',\n",
       "   'Relational Database Design',\n",
       "   'Features of Relational Design',\n",
       "   'Automatic Domains and First Normal Form',\n",
       "   'Decomposition using Functional Dependencies',\n",
       "   'Multivalued Dependencies',\n",
       "   'More Normal Forms',\n",
       "   'Web Interface',\n",
       "   'Object — Based Databases',\n",
       "   'Structured Types and inheritance in SQL',\n",
       "   'Table inheritance',\n",
       "   'Persis']},\n",
       " {'title': 'Unit-III',\n",
       "  'topics': ['Storage and File Structure',\n",
       "   'RAID',\n",
       "   'File Organisation',\n",
       "   'Indexing and Hashing',\n",
       "   'B Tree',\n",
       "   'B Tree Index files',\n",
       "   'Static and Dynamic Hashing',\n",
       "   'Query Processing',\n",
       "   'Sorting & Join Operators',\n",
       "   'Query Optimization',\n",
       "   'Choice of Evaluation Plans']},\n",
       " {'title': 'Unit-IV',\n",
       "  'topics': ['Transaction Management',\n",
       "   'Implementation of Atomicity and Durability',\n",
       "   'Serializability',\n",
       "   'Recoverability',\n",
       "   'Concurrency Control',\n",
       "   'Dead Lock Handling',\n",
       "   'Recovery System',\n",
       "   'Buffer Management']},\n",
       " {'title': 'Unit-V',\n",
       "  'topics': ['Database — System Architecture',\n",
       "   'Client Server — Architectures',\n",
       "   'Parallel System',\n",
       "   'Network Types',\n",
       "   'Distributed Database',\n",
       "   'Homogeneous and Heterogeneous Database',\n",
       "   'Directory System',\n",
       "   'Case Study — Oracle ~ MSSQL Server']}]"
      ]
     },
     "execution_count": 50,
     "metadata": {},
     "output_type": "execute_result"
    }
   ],
   "source": [
    "data['units']"
   ]
  },
  {
   "cell_type": "code",
   "execution_count": 51,
   "id": "b80941ef",
   "metadata": {},
   "outputs": [
    {
     "name": "stdout",
     "output_type": "stream",
     "text": [
      "d:\\GenTutor\\backend\\syllabus\\digital.png\n",
      "content='{\\n  \"name\": \"Core Il - Digital Logic Fundamentals\",\\n  \"objectives\": \"To acquire fundamental principles of two-valued logic and various devices used to implement logical\\\\n operations on variables. To lay the foundation for further studies in areas such as communication, VLSI,\\\\ncomputer, microprocessor.\",\\n  \"outcomes\": \"After successful completion of this course, the students should be able to Use the basic logic gates and\\\\nvarious reduction techniques of digital logic circuit in detail. Design combinational and sequential circuits.\\\\nDesign and implement hardware circuit to test performance and application. Understand the architecture and\\\\nuse of microcontrollers for the basic operations and simulate using simulation software.\",\\n  \"units\": [\\n    {\\n      \"number\": \"I\",\\n      \"topics\": [\\n        \"Number System — Converting numbers from one base to another — Complements — Binary Codes —\\\\nIntegrated Circuits — Boolean algebra — Properties of Boolean algebra — Boolean functions — Canonical and\\\\nStandard forms — Logical Operations — Logic gates - Karnaugh Map up to 6 variables — Don’t Care\\\\nCondition — Sum of Products and Products of Sum simplification — Tabulation Method\"\\n      ]\\n    },\\n    {\\n      \"number\": \"II\",\\n      \"topics\": [\\n        \"Adder ~ Subtractor — Code Converter — Analyzing a combinational Circuit — Multilevel NAND and NOR\\\\ncircuits ~ Properties of XOR and equivalence functions ~ Binary Parallel Adder ~ Decimal Adder\\\\n— Magnitude Comparator — Decoders ~ Multiplexers - ROM - PLA\"\\n      ]\\n    },\\n    {\\n      \"number\": \"III\",\\n      \"topics\": [\\n        \"Flip Flops — Triggering of flip-flops — Analyzing a sequential circuit — State reduction —\\\\nexcitation tables — Design of sequential circuits — Counters — Design with state equation — Registers ~\\\\nShift Registers — Ripple and synchronous Counters\"\\n      ]\\n    },\\n    {\\n      \"number\": \"IV\",\\n      \"topics\": [\\n        \"Memory Unit — Processor Organization - Bus Organization — Scratch Pad memory — ALU — Design of ALU\\\\n— Status Register - Effects of Output carry — Design of Shifter — Processor Unit — Microprogramming —\\\\nDesign of specific Arithmetic Circuits\"\\n      ]\\n    },\\n    {\\n      \"number\": \"V\",\\n      \"topics\": [\\n        \"Accumulator — Design of Accumulator — Computer Design — System of Configuration —\\\\nInstruction and Data formats — Instruction sets — Timing and Control — Execution of Instruction — Design of\\\\nComputer — Hardwired control - PLA Control and Microprogram control\"\\n      ]\\n    }\\n  ],\\n  \"credits\": 4,\\n  \"semester\": \"Semester-I\",\\n  \"year\": \"Year-I\"\\n}' additional_kwargs={} response_metadata={'token_usage': {'completion_tokens': 584, 'prompt_tokens': 510, 'total_tokens': 1094, 'completion_time': 1.061818182, 'prompt_time': 0.011206467, 'queue_time': 0.25047153, 'total_time': 1.073024649}, 'model_name': 'gemma2-9b-it', 'system_fingerprint': 'fp_10c08bf97d', 'service_tier': 'on_demand', 'finish_reason': 'stop', 'logprobs': None} id='run--896f4371-c0ee-46c6-b57e-48c818cfe588-0' usage_metadata={'input_tokens': 510, 'output_tokens': 584, 'total_tokens': 1094}\n"
     ]
    }
   ],
   "source": [
    "file_path = os.path.join(syllabus_dir,\"digital.png\")\n",
    "print(file_path)\n",
    "img = Image.open(file_path)\n",
    "Content_text = pytesseract.image_to_string(img)\n",
    "prompt = PromptTemplate(\n",
    "    input_variables=[\"content\"],\n",
    "    template=\"\"\"\n",
    "        You are assistant that extract syllabus details into JSON format.\n",
    "        Syllabus:\n",
    "        {content}\n",
    "\n",
    "        Return only valid JSON. Do not include ``` or any explanation:\n",
    "        {{\n",
    "            \"name\": \"..subject name...\",\n",
    "            \"unit..\": [.....,.....,....],\n",
    "            \"......\": [.....,.....,....]\n",
    "        }}\n",
    "        \"\"\"\n",
    "    )\n",
    "chain = prompt|llm\n",
    "text1 = chain.invoke({\"content\":Content_text})\n",
    "print(text1)"
   ]
  },
  {
   "cell_type": "code",
   "execution_count": 58,
   "id": "3fea59ea",
   "metadata": {},
   "outputs": [],
   "source": [
    "content_text1 = text1.content"
   ]
  },
  {
   "cell_type": "code",
   "execution_count": null,
   "id": "7f6925ec",
   "metadata": {},
   "outputs": [],
   "source": [
    "clean_text = content_text1.replace(\"```json\", \"\").replace(\"```\", \"\").strip()"
   ]
  },
  {
   "cell_type": "code",
   "execution_count": 60,
   "id": "7945ff82",
   "metadata": {},
   "outputs": [],
   "source": [
    "import json\n",
    "data = json.loads(clean_text)"
   ]
  },
  {
   "cell_type": "code",
   "execution_count": 63,
   "id": "e67d1207",
   "metadata": {},
   "outputs": [
    {
     "data": {
      "text/plain": [
       "[{'number': 'I',\n",
       "  'topics': ['Number System — Converting numbers from one base to another — Complements — Binary Codes —\\nIntegrated Circuits — Boolean algebra — Properties of Boolean algebra — Boolean functions — Canonical and\\nStandard forms — Logical Operations — Logic gates - Karnaugh Map up to 6 variables — Don’t Care\\nCondition — Sum of Products and Products of Sum simplification — Tabulation Method']},\n",
       " {'number': 'II',\n",
       "  'topics': ['Adder ~ Subtractor — Code Converter — Analyzing a combinational Circuit — Multilevel NAND and NOR\\ncircuits ~ Properties of XOR and equivalence functions ~ Binary Parallel Adder ~ Decimal Adder\\n— Magnitude Comparator — Decoders ~ Multiplexers - ROM - PLA']},\n",
       " {'number': 'III',\n",
       "  'topics': ['Flip Flops — Triggering of flip-flops — Analyzing a sequential circuit — State reduction —\\nexcitation tables — Design of sequential circuits — Counters — Design with state equation — Registers ~\\nShift Registers — Ripple and synchronous Counters']},\n",
       " {'number': 'IV',\n",
       "  'topics': ['Memory Unit — Processor Organization - Bus Organization — Scratch Pad memory — ALU — Design of ALU\\n— Status Register - Effects of Output carry — Design of Shifter — Processor Unit — Microprogramming —\\nDesign of specific Arithmetic Circuits']},\n",
       " {'number': 'V',\n",
       "  'topics': ['Accumulator — Design of Accumulator — Computer Design — System of Configuration —\\nInstruction and Data formats — Instruction sets — Timing and Control — Execution of Instruction — Design of\\nComputer — Hardwired control - PLA Control and Microprogram control']}]"
      ]
     },
     "execution_count": 63,
     "metadata": {},
     "output_type": "execute_result"
    }
   ],
   "source": [
    "data[\"units\"]"
   ]
  },
  {
   "cell_type": "code",
   "execution_count": 84,
   "id": "ceaf5bf6",
   "metadata": {},
   "outputs": [
    {
     "name": "stdout",
     "output_type": "stream",
     "text": [
      "d:\\GenTutor\\backend\\syllabus\\dbms_sylabus.png\n",
      "content='```json\\n{\\n    \"name\": \"Core Paper - III: Database Management Systems\",\\n    \"Unit-I\": \"Introduction to Database Systems — Relational Model — Structure — Relational Algebra — Null Values — SQL ~ Set Operation — Views — Advanced SQL — Embedded SQL — Recursive Queries — The Tuple Relational Calculus — Domain Relational Calculus.\",\\n    \"Unit-II\": \"E-R Model — Constraints — E-R- Diagrams Weak Entity Sets — Reduction to Relational Schemes — Relational Database Design — Features of Relational Design — Automatic Domains and First Normal Form — Decomposition using Functional Dependencies ~ Multivalued Dependencies — More Normal Forms — Web Interface — Object — Based Databases ~ Structured Types and inheritance in SQL ~ Table inheritance — Persis\",\\n    \"Unit-III\": \"Storage and File Structure — RAID — File Organisation — Indexing and Hashing ~ B Tree ~ B Tree Index files - Static and Dynamic Hashing ~ Query Processing — Sorting & Join Operators ~ Query Optimization — Choice of Evaluation Plans.\",\\n    \"Unit-IV\": \"Transaction Management — Implementation of Atomicity and Durability —Serializability — Recoverability — Concurrency Control — Dead Lock Handling — Recovery System — Buffer Management.\",\\n    \"Unit-V\": \"Database System Architecture — Client Server — Architectures — Parallel System —Network Types — Distributed Database — Homogeneous and Heterogeneous Database — Directory System — Case Study — Oracle ~ MSSQL Server.\"\\n}\\n```' additional_kwargs={} response_metadata={'token_usage': {'completion_tokens': 290, 'prompt_tokens': 476, 'total_tokens': 766, 'completion_time': 0.527272727, 'prompt_time': 0.010401277, 'queue_time': 0.253983563, 'total_time': 0.537674004}, 'model_name': 'gemma2-9b-it', 'system_fingerprint': 'fp_10c08bf97d', 'service_tier': 'on_demand', 'finish_reason': 'stop', 'logprobs': None} id='run--730ee049-52ff-43b8-9138-60237c955429-0' usage_metadata={'input_tokens': 476, 'output_tokens': 290, 'total_tokens': 766}\n"
     ]
    }
   ],
   "source": [
    "file_path = os.path.join(syllabus_dir,\"dbms_sylabus.png\")\n",
    "print(file_path)\n",
    "img = Image.open(file_path)\n",
    "Content_text = pytesseract.image_to_string(img)\n",
    "prompt = PromptTemplate(\n",
    "    input_variables=[\"content\"],\n",
    "    template=\"\"\"\n",
    "        You are assistant that extract syllabus details into JSON format.\n",
    "        Syllabus:\n",
    "        {content}\n",
    "\n",
    "        Return only valid JSON. and only need units and its topics.Do not include ```,objectives,outcomes, or any explanation:\n",
    "        {{\n",
    "            \"name\": \"..subject name...\",\n",
    "            \"unit..\": .....,.....,....,\n",
    "            \"......\": .....,.....,....\n",
    "        }}\n",
    "        \"\"\"\n",
    "    )\n",
    "chain = prompt|llm\n",
    "text3 = chain.invoke({\"content\":Content_text})\n",
    "print(text3)"
   ]
  },
  {
   "cell_type": "code",
   "execution_count": 85,
   "id": "4a56b8c9",
   "metadata": {},
   "outputs": [],
   "source": [
    "content_text1 = text3.content"
   ]
  },
  {
   "cell_type": "code",
   "execution_count": 86,
   "id": "617bc94c",
   "metadata": {},
   "outputs": [],
   "source": [
    "clean_text = content_text1.replace(\"```json\", \"\").replace(\"```\", \"\").strip()"
   ]
  },
  {
   "cell_type": "code",
   "execution_count": 130,
   "id": "3f3d2a47",
   "metadata": {},
   "outputs": [],
   "source": [
    "import json\n",
    "data = json.loads(clean_text)"
   ]
  },
  {
   "cell_type": "code",
   "execution_count": 131,
   "id": "b9d7e650",
   "metadata": {},
   "outputs": [
    {
     "data": {
      "text/plain": [
       "'Database System Architecture — Client Server — Architectures — Parallel System —Network Types — Distributed Database — Homogeneous and Heterogeneous Database — Directory System — Case Study — Oracle ~ MSSQL Server.'"
      ]
     },
     "execution_count": 131,
     "metadata": {},
     "output_type": "execute_result"
    }
   ],
   "source": [
    "data['Unit-V']"
   ]
  },
  {
   "cell_type": "code",
   "execution_count": 132,
   "id": "d992a2ce",
   "metadata": {},
   "outputs": [
    {
     "data": {
      "text/plain": [
       "{'name': 'Core Paper - III: Database Management Systems',\n",
       " 'Unit-I': 'Introduction to Database Systems — Relational Model — Structure — Relational Algebra — Null Values — SQL ~ Set Operation — Views — Advanced SQL — Embedded SQL — Recursive Queries — The Tuple Relational Calculus — Domain Relational Calculus.',\n",
       " 'Unit-II': 'E-R Model — Constraints — E-R- Diagrams Weak Entity Sets — Reduction to Relational Schemes — Relational Database Design — Features of Relational Design — Automatic Domains and First Normal Form — Decomposition using Functional Dependencies ~ Multivalued Dependencies — More Normal Forms — Web Interface — Object — Based Databases ~ Structured Types and inheritance in SQL ~ Table inheritance — Persis',\n",
       " 'Unit-III': 'Storage and File Structure — RAID — File Organisation — Indexing and Hashing ~ B Tree ~ B Tree Index files - Static and Dynamic Hashing ~ Query Processing — Sorting & Join Operators ~ Query Optimization — Choice of Evaluation Plans.',\n",
       " 'Unit-IV': 'Transaction Management — Implementation of Atomicity and Durability —Serializability — Recoverability — Concurrency Control — Dead Lock Handling — Recovery System — Buffer Management.',\n",
       " 'Unit-V': 'Database System Architecture — Client Server — Architectures — Parallel System —Network Types — Distributed Database — Homogeneous and Heterogeneous Database — Directory System — Case Study — Oracle ~ MSSQL Server.'}"
      ]
     },
     "execution_count": 132,
     "metadata": {},
     "output_type": "execute_result"
    }
   ],
   "source": [
    "data"
   ]
  },
  {
   "cell_type": "code",
   "execution_count": 133,
   "id": "73893568",
   "metadata": {},
   "outputs": [
    {
     "name": "stdout",
     "output_type": "stream",
     "text": [
      "{'name': 'Core Paper - III: Database Management Systems', 'Unit-I': ['Introduction to Database Systems', 'Relational Model', 'Structure', 'Relational Algebra', 'Null Values', 'SQL ~ Set Operation', 'Views', 'Advanced SQL', 'Embedded SQL', 'Recursive Queries', 'The Tuple Relational Calculus', 'Domain Relational Calculus.'], 'Unit-II': ['E', 'R Model', 'Constraints', 'E', 'R', 'Diagrams Weak Entity Sets', 'Reduction to Relational Schemes', 'Relational Database Design', 'Features of Relational Design', 'Automatic Domains and First Normal Form', 'Decomposition using Functional Dependencies ~ Multivalued Dependencies', 'More Normal Forms', 'Web Interface', 'Object', 'Based Databases ~ Structured Types and inheritance in SQL ~ Table inheritance', 'Persis'], 'Unit-III': ['Storage and File Structure', 'RAID', 'File Organisation', 'Indexing and Hashing ~ B Tree ~ B Tree Index files', 'Static and Dynamic Hashing ~ Query Processing', 'Sorting & Join Operators ~ Query Optimization', 'Choice of Evaluation Plans.'], 'Unit-IV': ['Transaction Management', 'Implementation of Atomicity and Durability', 'Serializability', 'Recoverability', 'Concurrency Control', 'Dead Lock Handling', 'Recovery System', 'Buffer Management.'], 'Unit-V': ['Database System Architecture', 'Client Server', 'Architectures', 'Parallel System', 'Network Types', 'Distributed Database', 'Homogeneous and Heterogeneous Database', 'Directory System', 'Case Study', 'Oracle ~ MSSQL Server.']}\n"
     ]
    }
   ],
   "source": [
    "import re\n",
    "for key,value in data.items():\n",
    "    if key!='name':\n",
    "        data[key] = [t.strip() for t in re.split(r\"—|-|,\",value)]\n",
    "print(data)\n",
    "\n"
   ]
  },
  {
   "cell_type": "code",
   "execution_count": 134,
   "id": "78085d13",
   "metadata": {},
   "outputs": [
    {
     "data": {
      "text/plain": [
       "{'name': 'Core Paper - III: Database Management Systems',\n",
       " 'Unit-I': ['Introduction to Database Systems',\n",
       "  'Relational Model',\n",
       "  'Structure',\n",
       "  'Relational Algebra',\n",
       "  'Null Values',\n",
       "  'SQL ~ Set Operation',\n",
       "  'Views',\n",
       "  'Advanced SQL',\n",
       "  'Embedded SQL',\n",
       "  'Recursive Queries',\n",
       "  'The Tuple Relational Calculus',\n",
       "  'Domain Relational Calculus.'],\n",
       " 'Unit-II': ['E',\n",
       "  'R Model',\n",
       "  'Constraints',\n",
       "  'E',\n",
       "  'R',\n",
       "  'Diagrams Weak Entity Sets',\n",
       "  'Reduction to Relational Schemes',\n",
       "  'Relational Database Design',\n",
       "  'Features of Relational Design',\n",
       "  'Automatic Domains and First Normal Form',\n",
       "  'Decomposition using Functional Dependencies ~ Multivalued Dependencies',\n",
       "  'More Normal Forms',\n",
       "  'Web Interface',\n",
       "  'Object',\n",
       "  'Based Databases ~ Structured Types and inheritance in SQL ~ Table inheritance',\n",
       "  'Persis'],\n",
       " 'Unit-III': ['Storage and File Structure',\n",
       "  'RAID',\n",
       "  'File Organisation',\n",
       "  'Indexing and Hashing ~ B Tree ~ B Tree Index files',\n",
       "  'Static and Dynamic Hashing ~ Query Processing',\n",
       "  'Sorting & Join Operators ~ Query Optimization',\n",
       "  'Choice of Evaluation Plans.'],\n",
       " 'Unit-IV': ['Transaction Management',\n",
       "  'Implementation of Atomicity and Durability',\n",
       "  'Serializability',\n",
       "  'Recoverability',\n",
       "  'Concurrency Control',\n",
       "  'Dead Lock Handling',\n",
       "  'Recovery System',\n",
       "  'Buffer Management.'],\n",
       " 'Unit-V': ['Database System Architecture',\n",
       "  'Client Server',\n",
       "  'Architectures',\n",
       "  'Parallel System',\n",
       "  'Network Types',\n",
       "  'Distributed Database',\n",
       "  'Homogeneous and Heterogeneous Database',\n",
       "  'Directory System',\n",
       "  'Case Study',\n",
       "  'Oracle ~ MSSQL Server.']}"
      ]
     },
     "execution_count": 134,
     "metadata": {},
     "output_type": "execute_result"
    }
   ],
   "source": [
    "data"
   ]
  },
  {
   "cell_type": "code",
   "execution_count": 121,
   "id": "5528e0ff",
   "metadata": {},
   "outputs": [
    {
     "data": {
      "text/plain": [
       "'Introduction to Database Systems — Relational Model — Structure — Relational Algebra — Null Values — SQL ~ Set Operation — Views — Advanced SQL — Embedded SQL — Recursive Queries — The Tuple Relational Calculus — Domain Relational Calculus.'"
      ]
     },
     "execution_count": 121,
     "metadata": {},
     "output_type": "execute_result"
    }
   ],
   "source": [
    "data[\"Unit-I\"]"
   ]
  },
  {
   "cell_type": "code",
   "execution_count": null,
   "id": "98ae341d",
   "metadata": {},
   "outputs": [],
   "source": []
  }
 ],
 "metadata": {
  "kernelspec": {
   "display_name": "base",
   "language": "python",
   "name": "python3"
  },
  "language_info": {
   "codemirror_mode": {
    "name": "ipython",
    "version": 3
   },
   "file_extension": ".py",
   "mimetype": "text/x-python",
   "name": "python",
   "nbconvert_exporter": "python",
   "pygments_lexer": "ipython3",
   "version": "3.13.5"
  }
 },
 "nbformat": 4,
 "nbformat_minor": 5
}
